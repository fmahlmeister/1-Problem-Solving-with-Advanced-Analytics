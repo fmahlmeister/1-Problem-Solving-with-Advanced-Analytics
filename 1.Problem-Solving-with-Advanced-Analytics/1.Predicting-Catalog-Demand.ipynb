{
 "cells": [
  {
   "cell_type": "markdown",
   "metadata": {},
   "source": [
    "# Project 1: Predicting Catalog Demand\n",
    "\n",
    "São Paulo, 22 February of 2019<br>\n",
    "Felipe Mahlmeister\n",
    "\n",
    "## Table of Contents\n",
    "[Business and Data Understanding](#business)<br>\n",
    "1. [What decisions needs to be made?](#key_decisions)<br>\n",
    "2. [What data is needed to inform those decisions?](#data_needed)<br>\n",
    "\n",
    "[Analysis, Modeling, and Validation](#analysis)<br>\n",
    "1. [How and why did you select the predictor variables in your model?](#predictor)<br>\n",
    "2. [Explain why you believe your linear model is a good model.](#explain)<br>\n",
    "3. [What is the best linear regression equation based on the available data?](#linear_regression)<br>\n",
    "\n",
    "[Presentation/Visualization](#presentation)<br>\n",
    "1. [What is your recommendation? Should the company send the catalog to these 250 customers?](#recommendation)<br>\n",
    "2. [How did you come up with your recommendation? (Please explain your process so\n",
    "reviewers can give you feedback on your process)](#recommendation_2)<br>\n",
    "3. [What is the expected profit from the new catalog (assuming the catalog is sent to these 250 customers)?](#profit)<br>"
   ]
  },
  {
   "cell_type": "markdown",
   "metadata": {},
   "source": [
    "<a id='business'></a>\n",
    "## Business and Data Understanding\n",
    "\n",
    "<a id='key_decisions'></a>\n",
    "#### 1. What decisions needs to be made?\n",
    "\n",
    "The company that I’m working for needs to know if worth sending out print catalogs to their 250 new customers and what will be the expected profit.\n",
    "\n",
    "Is important to highlight that the expected profit should be at least $ 10,000.00, otherwise, they'll not make this decision."
   ]
  },
  {
   "cell_type": "markdown",
   "metadata": {},
   "source": [
    "<a id='data_needed'></a>\n",
    "\n",
    "#### 2. What data is needed to inform those decisions?\n",
    "\n",
    "To the business analyst be able to inform the expected profit, the company must provide the registration data of the current and the new customers.\n",
    "\n",
    "Both registrations must have the customer segments, the average number of the products purchased and for the current customers must also have the average sale amount spent with their products, so we could predict the amount of money the new customers will spend, and thereafter the profit."
   ]
  },
  {
   "cell_type": "markdown",
   "metadata": {},
   "source": [
    "<a id='analysis'></a>\n",
    "## Analysis, Modeling, and Validation\n",
    "\n",
    "<a id='predictor'></a>\n",
    "#### 1. How and why did you select the predictor variables in your model? You must explain how your continuous predictor variables you’ve chosen have a linear relationship with the target variable.\n",
    "\n",
    "After importing raw data of the current customers, Select tool was applied to guarantee that the data types has correct and also Data Cleaning tool was applied to remove nulls.\n",
    "\n",
    "For Numeric variables I used scatterplots between the individual variable and the target variable to see if a variable might be good candidate for predictor variable. The following plots was made in Alteryx using Scatterplot tool. \n",
    "The target variable (Avg Sale Amount) has put as my Y and the numeric predictor variable as X (Customer ID, ZIP, Store_Number, Avg_Num_Products_Purchased, Years_as_Customer).\n",
    "\n",
    "Please see below 5 Scatterplots with the numeric predictor variables candidates and a brief explanation about its relationship with target variable."
   ]
  },
  {
   "cell_type": "markdown",
   "metadata": {},
   "source": [
    "<img src=\"http://drive.google.com/uc?export=view&id=1ldxNXTyZM1oHuj8Az3uBh6An4p-hdPoi\" width=\"500\">"
   ]
  },
  {
   "cell_type": "code",
   "execution_count": 1,
   "metadata": {},
   "outputs": [],
   "source": [
    "# sem nada"
   ]
  },
  {
   "cell_type": "markdown",
   "metadata": {},
   "source": [
    "Figure 1 - Scatterplot of Customer ID versus Avg Sale Amount"
   ]
  },
  {
   "cell_type": "code",
   "execution_count": 1,
   "metadata": {},
   "outputs": [],
   "source": [
    "# font size"
   ]
  },
  {
   "cell_type": "markdown",
   "metadata": {},
   "source": [
    "<font size=\"2\">Figure 1 - Scatterplot of Customer ID versus Avg Sale Amount</font>"
   ]
  },
  {
   "cell_type": "code",
   "execution_count": 2,
   "metadata": {},
   "outputs": [],
   "source": [
    "# so com <center>"
   ]
  },
  {
   "cell_type": "markdown",
   "metadata": {},
   "source": [
    "<center>Figure 1 - Scatterplot of Customer ID versus Avg Sale Amount</center>"
   ]
  },
  {
   "cell_type": "code",
   "execution_count": 3,
   "metadata": {},
   "outputs": [],
   "source": [
    "# com <p><center>"
   ]
  },
  {
   "cell_type": "markdown",
   "metadata": {},
   "source": [
    "<p><center>Figure 1 - Scatterplot of Customer ID versus Avg Sale Amount</center></p>"
   ]
  },
  {
   "cell_type": "code",
   "execution_count": 4,
   "metadata": {},
   "outputs": [],
   "source": [
    "# com <p align=\"center\">"
   ]
  },
  {
   "cell_type": "markdown",
   "metadata": {},
   "source": [
    "<p align=\"center\">Figure 1 - Scatterplot of Customer ID versus Avg Sale Amount</p>"
   ]
  },
  {
   "cell_type": "code",
   "execution_count": 4,
   "metadata": {},
   "outputs": [],
   "source": [
    "# com <p align=\"center\">"
   ]
  },
  {
   "cell_type": "markdown",
   "metadata": {},
   "source": [
    "$$Figure 1 - Scatterplot of Customer ID versus Avg Sale Amount$$"
   ]
  },
  {
   "cell_type": "code",
   "execution_count": 3,
   "metadata": {},
   "outputs": [],
   "source": [
    "# com <h><center>"
   ]
  },
  {
   "cell_type": "markdown",
   "metadata": {},
   "source": [
    "<h4><center>Figure 1 - Scatterplot of Customer ID versus Avg Sale Amount</center></h4>"
   ]
  },
  {
   "cell_type": "markdown",
   "metadata": {},
   "source": [
    "Figure 1 - Scatterplot of Customer ID versus Avg Sale Amount"
   ]
  },
  {
   "cell_type": "markdown",
   "metadata": {},
   "source": [
    "Figures 1, 2, 3 and 5 indicates by its absence of the slope, that the X variable (Customer ID, ZIP, Store Number, Years as Customer) hasn’t shown any relationship with the target variable, which excludes it as a potential candidate to be a predictor variable for the target variable in this model."
   ]
  },
  {
   "cell_type": "markdown",
   "metadata": {},
   "source": [
    "<img src=\"http://drive.google.com/uc?export=view&id=1qFfHQhMWyK__5VJsi4bWrGc9xt0w5PE_\" width=\"500\">"
   ]
  },
  {
   "cell_type": "markdown",
   "metadata": {},
   "source": [
    "<center>Figure 2 - Scatterplot of ZIP versus Avg Sale Amount</center>"
   ]
  },
  {
   "cell_type": "markdown",
   "metadata": {},
   "source": [
    "<img src=\"https://drive.google.com/uc?export=view&id=1jcLyvbHZyNrHP377NBg42VQ8rWGQ7ZAv\" width=\"500\">"
   ]
  },
  {
   "cell_type": "markdown",
   "metadata": {},
   "source": [
    "<center>Figure 3 - Scatterplot of Store Number versus Avg Sale Amount</center>"
   ]
  },
  {
   "cell_type": "markdown",
   "metadata": {},
   "source": [
    "<img src=\"https://drive.google.com/uc?export=view&id=1th3qPdJ7QbsL9h_eJxDkdEqot5c6N32n\" width=\"500\">"
   ]
  },
  {
   "cell_type": "markdown",
   "metadata": {},
   "source": [
    "<center>Figure 4 - Scatterplot of Avg Num Products Purchased versus Avg Sale Amount</center>"
   ]
  },
  {
   "cell_type": "markdown",
   "metadata": {},
   "source": [
    "A sloped line could be seen in Figure 4, which might indicate that this Numeric variable (Average Number of Products) is a good predictor variable for the target variable (Average Sale Amount). This sloped line in this scatter plot indicates a positive trend, which means that as the X values increases, the Y values also increase, indicating its relationship between both variables."
   ]
  },
  {
   "cell_type": "markdown",
   "metadata": {},
   "source": [
    "<img src=\"https://drive.google.com/uc?export=view&id=1DHfTgZk0X0es4kePbpn8mp77MngZA0Z_\" width=\"500\">"
   ]
  },
  {
   "cell_type": "markdown",
   "metadata": {},
   "source": [
    "<center>Figure 5 - Scatterplot of Years as Customer versus Avg Sale Amount</center>"
   ]
  },
  {
   "cell_type": "markdown",
   "metadata": {},
   "source": [
    "For categorical variables I had to use trial and error to see which are statistically significant.\n",
    "But after making some assumptions wasn’t necessary to look for all categorical variables:\n",
    "\n",
    "- The variable couldn’t have a hundred of unique values, which would categorize it as a dispensable variable because of its large amount of possibilities and fewer relevancy of each ones – Variables Name and Address was classified in this category;\n",
    "- The variable needs to have more than one value – Variable State was classified in this category;\n",
    "\n",
    "Leaving us with these categorical variables with potential to be predictor variables:\n",
    "\n",
    "- Customer Segment;\n",
    "- City;\n",
    "\n",
    "The following table (Table 1) shows the Linear Regression Report from Alteryx and illustrate a simulation with the Numeric variables (already chosen) and with both Categorical variables (see above) which could be potential predictor variables:"
   ]
  },
  {
   "cell_type": "markdown",
   "metadata": {},
   "source": [
    "<img src=\"https://drive.google.com/uc?export=view&id=1SG0DshWfMn6nFQVFKTdUUWaLveVo1unM\" width=\"500\">"
   ]
  },
  {
   "cell_type": "markdown",
   "metadata": {},
   "source": [
    "<center>Table 1 - Linear Regression Report</center>"
   ]
  },
  {
   "cell_type": "markdown",
   "metadata": {},
   "source": [
    "As we are looking for P-values at least statistically significant (P-value less or equal to 0.05) of the categorical variables, City was discarted as a potencial to be predictor variable."
   ]
  },
  {
   "cell_type": "markdown",
   "metadata": {},
   "source": [
    "<a id='explain'></a>\n",
    "#### 2. Explain why you believe your linear model is a good model. You must justify your reasoning using the statistical results that your regression model created. For each variable you selected, please justify how each variable is a good fit for your model by using the p-values and R-squared values that your model produced.\n",
    "\n",
    "To consider this model as a good model, we are looking for statistical significance, P-value less or equal to 0.05 and high R-square values are desirable.\n",
    "\n",
    "All the variable chosen are statically significant and the R-squared value is close, but below 0.9, which is a good sign that this model isn’t very fit and could be improved, but for this case, we will accept it and go forward."
   ]
  },
  {
   "cell_type": "markdown",
   "metadata": {},
   "source": [
    "<img src=\"https://drive.google.com/uc?export=view&id=158na4iyasxjpUVK_wY-60rgZO3ZQIpH4\" width=\"700\">"
   ]
  },
  {
   "cell_type": "markdown",
   "metadata": {},
   "source": [
    "<a id='linear_regression'></a>\n",
    "#### 3. What is the best linear regression equation based on the available data? Each coefficient should have no more than 2 digits after the decimal (ex: 1.28)\n",
    "\n",
    "$$Avg\\_Sale\\_Amount = 303.46 - 149.36 * (If CS\\_Loyalty\\_Club\\_Only)$$"
   ]
  },
  {
   "cell_type": "markdown",
   "metadata": {},
   "source": [
    "$$ + 281.84 * (If CS LoyaltyClub\\_and\\_Credit\\_Card)$$"
   ]
  },
  {
   "cell_type": "markdown",
   "metadata": {},
   "source": [
    "$$ - 245.42 * (If CS StoreMailling\\_List)$$"
   ]
  },
  {
   "cell_type": "markdown",
   "metadata": {},
   "source": [
    "$$ + 0 * (If CS CreditCard\\_Only)$$"
   ]
  },
  {
   "cell_type": "markdown",
   "metadata": {},
   "source": [
    "$$ + 66.98 * Avg\\_Num\\_Products\\_Purchased$$"
   ]
  },
  {
   "cell_type": "markdown",
   "metadata": {},
   "source": [
    "<a id='presentation'></a>\n",
    "## Presentation/Visualization\n",
    "\n",
    "<a id='recommendation'></a>\n",
    "#### 1. What is your recommendation? Should the company send the catalog to these 250 customers?\n",
    "\n",
    "Based on all the steps taken, I recommend the sending of these 250 catalogs to the new customers."
   ]
  },
  {
   "cell_type": "markdown",
   "metadata": {},
   "source": [
    "<a id='recommendation_2'></a>\n",
    "#### 2. How did you come up with your recommendation? (Please explain your process so reviewers can give you feedback on your process)\n",
    "\n",
    "After modeling the linear regression (statistically relevant) with the data of current customers, we could predict what would be the predicted revenue, as well as the profit of sending the catalogs to these 250 new customers, as could be seen on the equation below (applied for each new customer):"
   ]
  },
  {
   "cell_type": "markdown",
   "metadata": {},
   "source": [
    "$$ Profit = (([Predicted\\_Value]*[Score\\_Yes])*0.5)-6.5 $$"
   ]
  },
  {
   "cell_type": "markdown",
   "metadata": {},
   "source": [
    "Applying this equation to the 250 new customers we get a total profit of \\\\$ 21.987,44, which is 55% greater than expected by the management."
   ]
  },
  {
   "cell_type": "markdown",
   "metadata": {},
   "source": [
    "#### 3. What is the expected profit from the new catalog (assuming the catalog is sent to these 250 customers)?\n",
    "\n",
    "Applying this equation to the 250 new customers we get a total profit of $ 21.987,44, which is 55% greater than expected by the management."
   ]
  }
 ],
 "metadata": {
  "kernelspec": {
   "display_name": "Python 3",
   "language": "python",
   "name": "python3"
  },
  "language_info": {
   "codemirror_mode": {
    "name": "ipython",
    "version": 3
   },
   "file_extension": ".py",
   "mimetype": "text/x-python",
   "name": "python",
   "nbconvert_exporter": "python",
   "pygments_lexer": "ipython3",
   "version": "3.7.3"
  }
 },
 "nbformat": 4,
 "nbformat_minor": 2
}
