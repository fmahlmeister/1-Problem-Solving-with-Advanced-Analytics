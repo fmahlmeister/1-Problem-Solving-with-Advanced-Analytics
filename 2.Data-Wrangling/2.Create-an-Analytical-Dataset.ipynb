{
 "cells": [
  {
   "cell_type": "markdown",
   "metadata": {},
   "source": [
    "# Project 2: Create an Analytical Dataset\n",
    "\n",
    "São Paulo, 12 March of 2019<br>\n",
    "Felipe Mahlmeister\n",
    "\n",
    "## Table of Contents\n",
    "[Business and Data Understanding](#business)<br>\n",
    "1. [What decisions needs to be made?](#key_decisions)<br>\n",
    "2. [What data is needed to inform those decisions?](#data_needed)<br>\n",
    "\n",
    "[Building the Training Set](#building)<br>\n",
    "1. [Cleaning the Data](#cleaning)<br>\n",
    "\n",
    "[Dealing with Outliers](#outliers)<br>\n",
    "1. [Are there any cities that are outliers in the training set? Which outlier have you chosen to remove or impute?](#outliers_2)<br>"
   ]
  },
  {
   "cell_type": "markdown",
   "metadata": {},
   "source": [
    "<a id='business'></a>\n",
    "## Business and Data Understanding\n",
    "\n",
    "<a id='key_decisions'></a>\n",
    "#### 1. What decisions needs to be made?\n",
    "\n",
    "The Pawdacity pet shop, which is the leading pet shop in Wyoming with 13 stores, would like to open a 14th store this year.\n",
    "I was asked to perform an analysis to recommend the city for Pawdacity newest store, based on predicted yearly sales."
   ]
  },
  {
   "cell_type": "markdown",
   "metadata": {},
   "source": [
    "<a id='data_needed'></a>\n",
    "\n",
    "#### 2. What data is needed to inform those decisions?\n",
    "\n",
    "- The monthly sales data for all of the Pawdacity stores for the year 2010;\n",
    "\n",
    "- NAICS data on the most current sales of all competitor stores where total sales is equal to 12 months of sales;\n",
    "\n",
    "- A partially parsed data file that can be used for population numbers;\n",
    "\n",
    "- Demographic data (Households with individuals under 18, Land Area, Population Density, and Total Families) for each city and county in the state of Wyoming."
   ]
  },
  {
   "cell_type": "markdown",
   "metadata": {},
   "source": [
    "<a id='building'></a>\n",
    "## Building the Training Set\n",
    "\n",
    "Build your training set given the data provided to you. Your column sums of your dataset should match the sums in the table below.\n",
    "\n",
    "In addition, provide the averages on your data set here to help reviewers check your work."
   ]
  },
  {
   "cell_type": "markdown",
   "metadata": {},
   "source": [
    "| Column | Sum | Average |\n",
    "| --- | --- | --- |\n",
    "| Census Population | 213,862 | 19,442 |\n",
    "| Total Pawdacity Sales | 3,773,304 | 343,027.64 |\n",
    "| Households with Under 18 | 34,064 | 3,096.73 |\n",
    "| Land Area | 33,071 | 3,006.49 |\n",
    "| Population Density | 63 | 5.71 |\n",
    "| Total Families | 62,653 | 5,695.71 |"
   ]
  },
  {
   "cell_type": "markdown",
   "metadata": {},
   "source": [
    "<a id='cleaning'></a>\n",
    "#### 1. Cleaning the Data\n",
    "\n",
    "To provide a clear data set to perform a prediction, first, we need to clean the data.\n",
    "I used some features of the Alteryx that can handle with messy data.\n",
    "\n",
    "Follows below a brief view of the steps that I took to clean the data:"
   ]
  },
  {
   "cell_type": "markdown",
   "metadata": {},
   "source": [
    "<img src=\"http://drive.google.com/uc?export=view&id=1JyMFmHQjl1hPxl2Q7uSO7MA9KPTHj_gr\" width=\"500\">"
   ]
  },
  {
   "cell_type": "markdown",
   "metadata": {},
   "source": [
    "After the data clean, we need to append all the data which came from various datasets."
   ]
  },
  {
   "cell_type": "markdown",
   "metadata": {},
   "source": [
    "<img src=\"http://drive.google.com/uc?export=view&id=12eTmC0WeqLwjNu51ZM7TTQIPLV0VFVaE\" width=\"300\">"
   ]
  },
  {
   "cell_type": "markdown",
   "metadata": {},
   "source": [
    "To identify patterns and seek for outliers, some scatter plots were plotted."
   ]
  },
  {
   "cell_type": "markdown",
   "metadata": {},
   "source": [
    "<img src=\"http://drive.google.com/uc?export=view&id=1CgaD_Sme3vEgBmozRb1uiqvWrpOmcr53\" width=\"150\">"
   ]
  },
  {
   "cell_type": "markdown",
   "metadata": {},
   "source": [
    "Follows below all the steps taken for this project"
   ]
  },
  {
   "cell_type": "markdown",
   "metadata": {},
   "source": [
    "<img src=\"http://drive.google.com/uc?export=view&id=1oczNZL2wXTJw8xn7_mhF5wLFR-69sKhv\" width=\"900\">"
   ]
  },
  {
   "cell_type": "markdown",
   "metadata": {},
   "source": [
    "<a id='outliers'></a>\n",
    "## Dealing with Outliers\n",
    "\n",
    "<a id='outliers_2'></a>\n",
    "#### 1. Are there any cities that are outliers in the training set? Which outlier have you chosen to remove or impute? Because this dataset is a small data set (11 cities), you should only remove or impute one outlier. Please explain your reasoning.\n",
    "\n",
    "To check for outliers, I started with some scatterplots to visualize the relationship between each predictor variable and the target variable. Since there are five predictor variables, I dragged in five scatterplot tools and connected them to the cleaned dataset. Then I configured each one with a different predictor variable, attach browse tools, and run the workflow.\n",
    "\n",
    "Additionally, I used another technique (Interquartile Range Method - IQR) to identify whether or not and how many cities has outliers, as follows below:"
   ]
  },
  {
   "cell_type": "markdown",
   "metadata": {},
   "source": [
    "<img src=\"http://drive.google.com/uc?export=view&id=1GYIvw1AH74mhLtLCIZ83iZXcLqhl2by9\" width=\"700\">"
   ]
  },
  {
   "cell_type": "markdown",
   "metadata": {},
   "source": [
    "This is the colorful graphical representation of the box and whisker that I considered:"
   ]
  },
  {
   "cell_type": "markdown",
   "metadata": {},
   "source": [
    "<img src=\"http://drive.google.com/uc?export=view&id=1jHZzJSmYAY-h7OfeXslPg2YD2J7Ej00y\" width=\"200\">"
   ]
  },
  {
   "cell_type": "markdown",
   "metadata": {},
   "source": [
    "#### Total Pawdacity Sales\n",
    "Looking for the Interquartile division we could see two outliers: Gillette city and Cheyenne city. For comparison purposes the Pawdacity Sales in Cheyenne City is 3x greater than the Q3.\n",
    "\n",
    "#### 2010 Census Population\n",
    "For the census population, we have only one outlier: Cheyenne. \n",
    "\n",
    "#### Households with under 18 years\n",
    "Looking for the Households with under 18 years variable, there doesn’t appear to be outliers.\n",
    "\n",
    "#### Land Area\n",
    "For the Land Area variable, only the Rock Springs shows as an outlier.\n",
    "\n",
    "#### Population Density\n",
    "Looking at Population Density data, only one city that stands out from the all other as an outlier: Cheyenne\n",
    "\n",
    "#### Total Families\n",
    "Only in Cheyenne the Total Families data stands as an outlier.\n",
    "\n",
    "#### Outlier Summary\n",
    "After detailed observation of all the outliers of the data, I can conclude that doesn't seem like there is any typo error and all the data seem to like to be correct.\n",
    "On the other hand, Cheyenne city is clearly a very specific case in comparison with the other cities.\n",
    "Cheyenne has a high population density and very high revenue, even though it is one of the smallest cities of the state.\n",
    "The probability of having all of these specificities in another city of the state is very low and because of it, this city will be removed from the dataset. So now we are ready for modeling."
   ]
  }
 ],
 "metadata": {
  "kernelspec": {
   "display_name": "Python 3",
   "language": "python",
   "name": "python3"
  },
  "language_info": {
   "codemirror_mode": {
    "name": "ipython",
    "version": 3
   },
   "file_extension": ".py",
   "mimetype": "text/x-python",
   "name": "python",
   "nbconvert_exporter": "python",
   "pygments_lexer": "ipython3",
   "version": "3.7.3"
  }
 },
 "nbformat": 4,
 "nbformat_minor": 2
}
