{
 "cells": [
  {
   "cell_type": "markdown",
   "metadata": {},
   "source": [
    "# Project 3: Predict Loan Default Risk\n",
    "\n",
    "São Paulo, 29 March of 2019<br>\n",
    "Felipe Mahlmeister\n",
    "\n",
    "## Table of Contents\n",
    "[Business and Data Understanding](#business)<br>\n",
    "1. [What decisions needs to be made?](#key_decisions)<br>\n",
    "2. [What data is needed to inform those decisions?](#data_needed)<br>\n",
    "3. [What kind of model (Continuous, Binary, Non-Binary, Time-Series) do we need to use to help make these decisions?](#model)<br>\n",
    "\n",
    "[Building the Training Set](#building)<br>\n",
    "1. [In your cleanup process, which fields did you remove or impute?](#cleaning)<br>\n",
    "1.1. [Data Exploration](#data_exploration)<br>\n",
    "1.2. [Frequency of target-variable](#frequency)<br>\n",
    "1.3. [Predictors variables - Correlation](#predictors_variables)<br>\n",
    "\n",
    "[Train your Classification Models](#classification)<br>\n",
    "1. [Logistic Regression](#logistic_regression)<br>\n",
    "2. [Decision Tree](#decision_tree)<br>\n",
    "3. [Forest Model](#forest_model)<br>\n",
    "4. [Boosted Model](#boosted_model)<br>\n",
    "\n",
    "[Writeup](#writeup)<br>\n",
    "1. [Choosing the best Model](#best_model)<br>\n",
    "2. [How many individuals are creditworthy?](#creditworthy)<br>"
   ]
  },
  {
   "cell_type": "markdown",
   "metadata": {},
   "source": [
    "<a id='business'></a>\n",
    "## Business and Data Understanding\n",
    "\n",
    "<a id='key_decisions'></a>\n",
    "#### 1. What decisions needs to be made?\n",
    "\n",
    "As a loan officer at a young and small bank, I need to come up with an efficient solution to classify new customers on whether they can be approved for a loan or not.\n",
    "\n",
    "Due to a financial scandal that hit a competitive bank last week, a sudden influx of 500 new people migrated to my bank, I need to use a series of classification models to figure out the best predictive model and provide a list of creditworthy customers in the next two days, in order to don’t miss this huge opportunity for the bank that I work for."
   ]
  },
  {
   "cell_type": "markdown",
   "metadata": {},
   "source": [
    "<a id='data_needed'></a>\n",
    "\n",
    "#### 2. What data is needed to inform those decisions?\n",
    "\n",
    "- Data on all past applications:<br> Credit Application Result, Account Balance, Duration of Credit Month, Payment Status of Previous Credit, Purpose, Credit Amount, Value Savings Stocks, Length of current employment, Instalment per cent, Most valuable available asset, Age years, Type of apartment, No of Credits at this Bank\n",
    "<br><br>\n",
    "- The list of customers that need to be processed in the next few days:<br> Account Balance, Duration of Credit Month, Payment Status of Previous Credit, Purpose, Credit Amount, Value Savings Stocks, Length of current employment, Instalment per cent, Most valuable available asset, Age years, Type of apartment, No of Credits at this Bank"
   ]
  },
  {
   "cell_type": "markdown",
   "metadata": {},
   "source": [
    "<a id='model'></a>\n",
    "\n",
    "#### 3. What kind of model (Continuous, Binary, Non-Binary, Time-Series) do we need to use to help make these decisions?\n",
    "\n",
    "As the answer to this problem is Binary (creditworthy / non- creditworthy), we need to build a model that best fit with it. In order to achieve it, I’ll compare the following binary classification models and choose the one that performs best:\n",
    "\n",
    "- Logistic Regression;\n",
    "- Decision Tree;\n",
    "- Random Forest;\n",
    "- Boosted Model"
   ]
  },
  {
   "cell_type": "markdown",
   "metadata": {},
   "source": [
    "<a id='building'></a>\n",
    "## Building the Training Set\n",
    "\n",
    "<a id='cleaning'></a>\n",
    "#### 1. In your cleanup process, which fields did you remove or impute?\n",
    "\n",
    "<a id='data_exploration'></a>\n",
    "#### 1.1. Data Exploration\n",
    "\n",
    "To the cleanup process, I started with Data Exploration, visualizing the data distribution and identifying which fields could be removed because of its “Low Variability”. All the following graphs were classified as “Low Variability” and was removed:\n",
    "\n",
    "<img src=\"http://drive.google.com/uc?export=view&id=13TcrnYCQkBV2EOGGZlAfvFKY7oJH6-Tb\" width=\"500\">"
   ]
  },
  {
   "cell_type": "markdown",
   "metadata": {},
   "source": [
    "Because the “Duration-in-Current-address” field has a lot of missing data (69%) I also removed this field."
   ]
  },
  {
   "cell_type": "markdown",
   "metadata": {},
   "source": [
    "<img src=\"http://drive.google.com/uc?export=view&id=1fXZoj7U2NRIVly6qt02MwOrW6fxXjPKm\" width=\"270\">"
   ]
  },
  {
   "cell_type": "markdown",
   "metadata": {},
   "source": [
    "Now looking for the remaining fields can be identified some missing data in the “Age-years” field. As the missing data is only a few parts of the total (2%) and this field seems to be a high candidate to be an important variable to our prediction, I imputed the missing values with the median of the Age-years.\n",
    "\n",
    "Although there are better techniques of value-imputation of the missing values, I used an imputation of median-values, which inputs less bias in the dataset than the average-values instead.\n",
    "\n",
    "Using the \"average values\" could insert a skewed graph in our model based on the age of the current clients, in this case we would be inputting an error/bias in our model and it could return a biased analysis, for example: if we train/teach our model that people with 50+ years are the most reliable/creditworthy, most of the new customers that have less than 50 years probably wouldn’t be accepted in our bank, but this concept of reliability was based in our current customers and this couldn’t be (and probably isn’t) an indisputable truth, especially when compared with a large amount of data.\n",
    "\n",
    "When we’re using the median of age-years, we’re inputting the median value between the oldest and youngest, representing the age group that we attend in our bank. Even though this method input some errors in our dataset, at least our dataset isn’t biased, and these errors tend to be lower than the average method when applying our model with a large age group."
   ]
  },
  {
   "cell_type": "markdown",
   "metadata": {},
   "source": [
    "<img src=\"http://drive.google.com/uc?export=view&id=14jHD5xJmre_9vHSd3iEz6C_p16Fy1okN\" width=\"270\">"
   ]
  },
  {
   "cell_type": "markdown",
   "metadata": {},
   "source": [
    "<a id='frequency'></a>\n",
    "#### 1.2. Frequency of target-variable\n",
    "\n",
    "In order to analyze the frequency of the creditworthy and non-creditworthy in our dataset, we could see that our bank grants a lot of credit, probably because it’s a young and small bank."
   ]
  },
  {
   "cell_type": "markdown",
   "metadata": {},
   "source": [
    "<img src=\"http://drive.google.com/uc?export=view&id=1hhZSCP-fK6AQ3f5zzFn2eQEpivAt2lle\" width=\"500\">"
   ]
  },
  {
   "cell_type": "markdown",
   "metadata": {},
   "source": [
    "<a id='predictors_variables'></a>\n",
    "#### 1.3. Predictors variables - Correlation\n",
    "\n",
    "After applying logic to check if our list of potential variables has duplicates variables, now we will check the correlation between remaining variables.\n",
    "\n",
    "I checked for correlations between my predictor variables to see if there is any possibility of multicollinearity in my dataset. Below is a table that shows the correlations between the different predictor variables:"
   ]
  },
  {
   "cell_type": "markdown",
   "metadata": {},
   "source": [
    "<img src=\"http://drive.google.com/uc?export=view&id=1p77VFXyFCl38ThG2hQI2wFiqRpqcYAh_\" width=\"600\">"
   ]
  },
  {
   "cell_type": "markdown",
   "metadata": {},
   "source": [
    "After analyzing the above table, now I wonder if there is an inner correlation between our first and second predictor variables (Duration of credit month and Credit amount) because the association measures between them are very close.\n",
    "\n",
    "As we could see below, there’s a significant correlation, but these variables haven’t shown as a duplicate variable (correlation below 0.7), so we’ll use them in our model."
   ]
  },
  {
   "cell_type": "markdown",
   "metadata": {},
   "source": [
    "<img src=\"http://drive.google.com/uc?export=view&id=1EWWYXWqJPq8vfEyLHbtqjvujRrdbpbHW\" width=\"600\">"
   ]
  },
  {
   "cell_type": "markdown",
   "metadata": {},
   "source": [
    "So, after analyzing the following last graph, I could conclude that all these variables are singular and can be used in our predict models"
   ]
  },
  {
   "cell_type": "markdown",
   "metadata": {},
   "source": [
    "<img src=\"http://drive.google.com/uc?export=view&id=1dx9Nx5UtWpunFRPA9enhrhg1bUsCPsGh\" width=\"600\">"
   ]
  },
  {
   "cell_type": "markdown",
   "metadata": {},
   "source": [
    "<a id='classification'></a>\n",
    "## Train your Classification Models\n",
    "\n",
    "In order to obtain a reliable model which could predict/classify our customers, we need to train our model.\n",
    "First, I created an Estimation and Validation samples where 70% of the dataset were to Estimation and 30% of the entire dataset were reserved for Validation.\n",
    "\n",
    "<a id='logistic_regression'></a>\n",
    "#### 1. Logistic Regression\n",
    "\n",
    "The first model we’ll test is Logistic Regression. \n",
    "To let the Stepwise tool decide which predictor variables are significant, we chose all the variables in the Logistic Regression tool, other than the target variable."
   ]
  },
  {
   "cell_type": "markdown",
   "metadata": {},
   "source": [
    "<img src=\"http://drive.google.com/uc?export=view&id=1V_mEnZlNAlYVOeadlHrL__Jb14_QJF5b\" width=\"600\">"
   ]
  },
  {
   "cell_type": "markdown",
   "metadata": {},
   "source": [
    "According to the Logistic Regression model, the Predictor Variables that are significant are:\n",
    "- Account-Balance\n",
    "- Payment-Status-of-Previous-Credit\n",
    "- Purpose\n",
    "- Credit-Amount\n",
    "- Length-of-current-employment\n",
    "- Instalment-per-cent"
   ]
  },
  {
   "cell_type": "markdown",
   "metadata": {},
   "source": [
    "<img src=\"http://drive.google.com/uc?export=view&id=1tsJyctDG4dNIPqmOw4nOM7CCxLfdfPvf\" width=\"600\">"
   ]
  },
  {
   "cell_type": "markdown",
   "metadata": {},
   "source": [
    "The R-Squared value sounds not good at all, with a value of 0.2048"
   ]
  },
  {
   "cell_type": "markdown",
   "metadata": {},
   "source": [
    "<img src=\"http://drive.google.com/uc?export=view&id=15shq9Q54gTurmkQOJKZJChZYUOPdPAFA\" width=\"400\">"
   ]
  },
  {
   "cell_type": "markdown",
   "metadata": {},
   "source": [
    "Now, if we look at how well this model would perform with the Validation data (30% of the dataset), we can see an overall percent of 0.7600, which isn’t an excellent value, but it still a good prediction. If we look at confusion matrix, the accuracy in correctly predicting creditworthy individuals is 80% and the accuracy in correctly predicting non-creditworthy individuals 63%. This means that this particular model has bias towards correctly predicting creditworthy individuals because its accuracy in this segment is way higher than in the other."
   ]
  },
  {
   "cell_type": "markdown",
   "metadata": {},
   "source": [
    "<h4 align=\"center\">\n",
    "  Logistic Regression – Validation Data\n",
    "</h4>"
   ]
  },
  {
   "cell_type": "markdown",
   "metadata": {},
   "source": [
    "<img src=\"http://drive.google.com/uc?export=view&id=17X34lus8Q1o3x9zz24vXvXl4iyrAqBUu\" width=\"600\">"
   ]
  },
  {
   "cell_type": "markdown",
   "metadata": {},
   "source": [
    "<img src=\"http://drive.google.com/uc?export=view&id=1gNfijmUGm7Tt7ik2DpcbAgFpC49l0TDd\" width=\"600\">"
   ]
  },
  {
   "cell_type": "markdown",
   "metadata": {},
   "source": [
    "<a id='decision_tree'></a>\n",
    "#### 2. Decision Tree\n",
    "\n",
    "Testing the Decision Tree model into our dataset we could see that even though the Root node error is quite high it still under 30%, which considered as an acceptable error."
   ]
  },
  {
   "cell_type": "markdown",
   "metadata": {},
   "source": [
    "<img src=\"http://drive.google.com/uc?export=view&id=1Oj5T0-vidgXTq8EDvvtNZbszjdp-8syX\" width=\"400\">"
   ]
  },
  {
   "cell_type": "markdown",
   "metadata": {},
   "source": [
    "The Variable Importance Plot indicates that the most important predictor variables into this model are:\n",
    "- Account-Balance\n",
    "- Value-Saving-Stocks\n",
    "- Duration-of-Credit-Month"
   ]
  },
  {
   "cell_type": "markdown",
   "metadata": {},
   "source": [
    "<img src=\"http://drive.google.com/uc?export=view&id=1MDhafOQ_4G9WB3dsjwn1LGftZraJsUty\" width=\"400\">"
   ]
  },
  {
   "cell_type": "markdown",
   "metadata": {},
   "source": [
    "When we are validating our model against itself with the Confusion Matrix, we can see that the Sum of Accuracy is 78%, classifying it as a reliable model."
   ]
  },
  {
   "cell_type": "markdown",
   "metadata": {},
   "source": [
    "<img src=\"http://drive.google.com/uc?export=view&id=1FFN2O56qr7awWYMU3lAN5rUnZuvI6kRZ\" width=\"400\">"
   ]
  },
  {
   "cell_type": "markdown",
   "metadata": {},
   "source": [
    "Looking at how well this model would perform with the Validation data, we can see that the overall percent accuracy is lower than the Logistic Regression Accuracy – 0.7467. If we look at confusion matrix, the analysis is similar to the Logistic Regression model, the accuracy in predicting creditworthy individuals is 79% and the accuracy in correctly predicting non-creditworthy individuals are 60%. Meaning that this particular model has bias towards correctly predicting creditworthy individuals because its accuracy in this segment is way higher than in the other."
   ]
  },
  {
   "cell_type": "markdown",
   "metadata": {},
   "source": [
    "#### <center>Decision Tree – Validation Data</center>"
   ]
  },
  {
   "cell_type": "markdown",
   "metadata": {},
   "source": [
    "<img src=\"http://drive.google.com/uc?export=view&id=1k7j3Ki1GDJnmVwq_9p56UNkAFSjUMy1-\" width=\"600\">"
   ]
  },
  {
   "cell_type": "markdown",
   "metadata": {},
   "source": [
    "<img src=\"http://drive.google.com/uc?export=view&id=14fAaNgQ23Iz411adRetcSfIAHK6Vkdf0\" width=\"600\">"
   ]
  },
  {
   "cell_type": "markdown",
   "metadata": {},
   "source": [
    "<a id='forest_model'></a>\n",
    "#### 3. Forest Model\n",
    "\n",
    "Looking at the Confusion Matrix of the Forest Model, we can see that the accuracy of this model (trained with only Estimation Data) is the best until now, with an overall value of 86%!"
   ]
  },
  {
   "cell_type": "markdown",
   "metadata": {},
   "source": [
    "#### <center>Confusion matrix – Forest Model – Estimation Data</center>"
   ]
  },
  {
   "cell_type": "markdown",
   "metadata": {},
   "source": [
    "<img src=\"http://drive.google.com/uc?export=view&id=1bWZtOFb7dwHLHK6yw9j7Ei8OKeo9-0Lj\" width=\"500\">"
   ]
  },
  {
   "cell_type": "markdown",
   "metadata": {},
   "source": [
    "This model selected the Credit-Amount, Age-years and Duration-of-Credit-Month as the most important variables into this system."
   ]
  },
  {
   "cell_type": "markdown",
   "metadata": {},
   "source": [
    "#### <center>Variable Importance Plot – Forest Model</center>"
   ]
  },
  {
   "cell_type": "markdown",
   "metadata": {},
   "source": [
    "<img src=\"http://drive.google.com/uc?export=view&id=1UChf9Je5LmTKYqc1DRmmV7zmWq9kjdXH\" width=\"400\">"
   ]
  },
  {
   "cell_type": "markdown",
   "metadata": {},
   "source": [
    "Comparing our model trained with Validation Data we can see the following results:"
   ]
  },
  {
   "cell_type": "markdown",
   "metadata": {},
   "source": [
    "#### <center>Forest Model – Validation Data</center>"
   ]
  },
  {
   "cell_type": "markdown",
   "metadata": {},
   "source": [
    "<img src=\"http://drive.google.com/uc?export=view&id=1TY_3aSTo3nSqlTuhHpAXfR3kjKbqiO4E\" width=\"600\">"
   ]
  },
  {
   "cell_type": "markdown",
   "metadata": {},
   "source": [
    "<img src=\"http://drive.google.com/uc?export=view&id=1ZbowKgk6-zJbnIBXNwgvSIbI_Snj4Bmq\" width=\"600\">"
   ]
  },
  {
   "cell_type": "markdown",
   "metadata": {},
   "source": [
    "The accuracy of predicting creditworthiness in this model is about 78% and the accuracy of predicting non-creditworthiness is 85%. In this case, we can say that this model is almost not biased at all, because the difference between those accuracies is very small."
   ]
  },
  {
   "cell_type": "markdown",
   "metadata": {},
   "source": [
    "<a id='boosted_model'></a>\n",
    "#### 3. Boosted Model\n",
    "\n",
    "When trained with Validation Data, the Boosted Model identify only Credit-Amount and Account-Balance as important variables to build this model."
   ]
  },
  {
   "cell_type": "markdown",
   "metadata": {},
   "source": [
    "#### <center>Variable Importance Plot – Boosted Model</center>"
   ]
  },
  {
   "cell_type": "markdown",
   "metadata": {},
   "source": [
    "<img src=\"http://drive.google.com/uc?export=view&id=1UAAgrV37RTYmW0Sc_Li-H2ziELo48avS\" width=\"400\">"
   ]
  },
  {
   "cell_type": "markdown",
   "metadata": {},
   "source": [
    "<img src=\"http://drive.google.com/uc?export=view&id=1PAqI3QY-xJolFvcdxvnpZmy6AFLwLUXR\" width=\"400\">"
   ]
  },
  {
   "cell_type": "markdown",
   "metadata": {},
   "source": [
    "#### <center>Number of Iterations Assessment Plot</center>"
   ]
  },
  {
   "cell_type": "markdown",
   "metadata": {},
   "source": [
    "<img src=\"http://drive.google.com/uc?export=view&id=1CMF9YRvmIDgY68a6_Y_mtt9DHzFR6gS8\" width=\"400\">"
   ]
  },
  {
   "cell_type": "markdown",
   "metadata": {},
   "source": [
    "Comparing our model trained with Validation Data we can see the following results:"
   ]
  },
  {
   "cell_type": "markdown",
   "metadata": {},
   "source": [
    "#### <center>Boosted Model – Validation Data</center>"
   ]
  },
  {
   "cell_type": "markdown",
   "metadata": {},
   "source": [
    "<img src=\"http://drive.google.com/uc?export=view&id=14OU2lF-44zUxoHUOWY7VwQiqYGMmSXTf\" width=\"600\">"
   ]
  },
  {
   "cell_type": "markdown",
   "metadata": {},
   "source": [
    "<img src=\"http://drive.google.com/uc?export=view&id=14oOAVf-dHKGsl2JbWBKAGPoHm-2MFksk\" width=\"600\">"
   ]
  },
  {
   "cell_type": "markdown",
   "metadata": {},
   "source": [
    "The accuracy of predicting creditworthiness in this model is 79% and 82% is the accuracy of predicting non-creditworthiness. In this case, we can say that this model also is almost not biased at all, because the difference between those accuracies is very small."
   ]
  },
  {
   "cell_type": "markdown",
   "metadata": {},
   "source": [
    "<a id='writeup'></a>\n",
    "## Writeup\n",
    "\n",
    "<a id='best_model'></a>\n",
    "#### 1. Choosing the best Model\n",
    "\n",
    "In order to look at the whole picture, we can compare all of these models side by side:"
   ]
  },
  {
   "cell_type": "markdown",
   "metadata": {},
   "source": [
    "<img src=\"http://drive.google.com/uc?export=view&id=1FyLabb6iv7kaRdugGzJvLRHU_6iS2AMn\" width=\"700\">"
   ]
  },
  {
   "cell_type": "markdown",
   "metadata": {},
   "source": [
    "<img src=\"http://drive.google.com/uc?export=view&id=18gLCpKIt4FLuU-IpGExypa2xmjMEVUyo\" width=\"600\">"
   ]
  },
  {
   "cell_type": "markdown",
   "metadata": {},
   "source": [
    "<img src=\"http://drive.google.com/uc?export=view&id=1N3zdS8yqQENdh61BtCcaGuXZ9ElMET4-\" width=\"600\">"
   ]
  },
  {
   "cell_type": "markdown",
   "metadata": {},
   "source": [
    "<img src=\"http://drive.google.com/uc?export=view&id=1nLNCH-o52pQkhcb067tn8Gppj5HkaRfv\" width=\"400\">"
   ]
  },
  {
   "cell_type": "markdown",
   "metadata": {},
   "source": [
    "Taking over the overall accuracy to predict the best fit model, we came with the two bests models: Forest Model and Boosted Model, both with the highest overall accuracy of 79.33%, as well we can see that Forest model has the highest Accuracy Creditworthy at 97.14%. We’re going further onto this analysis focusing only on these models because the most important on this analysis is how accurately we can identify people who qualify for loan.\n",
    "\n",
    "When we see at ROC graph, we can say that Forest model hugs the top most true positive side of the graph.\n",
    "\n",
    "And, the Forest model also doesn't show any bias in predicting the models accuracy, hence, <b>we can say that Forest model is the best fit model for this project.</b>"
   ]
  },
  {
   "cell_type": "markdown",
   "metadata": {},
   "source": [
    "<a id='creditworthy'></a>\n",
    "#### 2. How many individuals are creditworthy?\n",
    "\n",
    "Now that we choose our trained model with Estimation and Validation data, we need to redo our model, but now with the whole dataset."
   ]
  },
  {
   "cell_type": "markdown",
   "metadata": {},
   "source": [
    "<img src=\"http://drive.google.com/uc?export=view&id=1dJ9kqbmS9nfOA7rnqwLWNBP7Jpu6o5Ta\" width=\"500\">"
   ]
  },
  {
   "cell_type": "markdown",
   "metadata": {},
   "source": [
    "Scoring the missing data:"
   ]
  },
  {
   "cell_type": "markdown",
   "metadata": {},
   "source": [
    "<img src=\"http://drive.google.com/uc?export=view&id=13ypIs_rkmajtI6-W0GnB_M4FfGPz-pzN\" width=\"500\">"
   ]
  },
  {
   "cell_type": "markdown",
   "metadata": {},
   "source": [
    "With an overall accuracy of <b>79%</b> and <b>97%</b> of accuracy in predicting Creditworthy individuals, we can predict that <b>407</b> of the new customers can be classified as <b>Creditworthy</b>."
   ]
  },
  {
   "cell_type": "markdown",
   "metadata": {},
   "source": [
    "<img src=\"http://drive.google.com/uc?export=view&id=1rU5Rc9dj_r5mD7vBpFAFqn7vA1zP7OY7\" width=\"500\">"
   ]
  }
 ],
 "metadata": {
  "kernelspec": {
   "display_name": "Python 3",
   "language": "python",
   "name": "python3"
  },
  "language_info": {
   "codemirror_mode": {
    "name": "ipython",
    "version": 3
   },
   "file_extension": ".py",
   "mimetype": "text/x-python",
   "name": "python",
   "nbconvert_exporter": "python",
   "pygments_lexer": "ipython3",
   "version": "3.7.3"
  }
 },
 "nbformat": 4,
 "nbformat_minor": 2
}
