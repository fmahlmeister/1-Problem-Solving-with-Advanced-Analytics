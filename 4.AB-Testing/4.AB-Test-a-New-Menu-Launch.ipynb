{
 "cells": [
  {
   "cell_type": "markdown",
   "metadata": {},
   "source": [
    "# Project 4: A/B Test a New Menu Launch\n",
    "\n",
    "São Paulo, 25 April of 2019<br>\n",
    "Felipe Mahlmeister\n",
    "\n",
    "## Table of Contents\n",
    "\n",
    "1. [Plan Your Analysis](#plan)<br>\n",
    "1.1. [What is the performance metric you’ll use to evaluate the results of your test?](#metric)<br>\n",
    "1.2. [What is the test period?](#period)<br>\n",
    "1.3. [At what level (day, week, month, etc.) should the data be aggregated?](#level_agg)<br>\n",
    "\n",
    "2. [Clean Up Your Data](#cleanup)<br>\n",
    "2.1. [Data Exploration](#data_exploration)<br>\n",
    "2.1.1. [Round Roasters Store Table](#round_roasters_1)<br>\n",
    "2.1.2. [Round Roasters Transactions Table](#round_roasters_2)<br>\n",
    "2.1.3. [Treatment Stores](#treatment_stores)<br>\n",
    "2.2. [Data Cleaning](#data_cleaning)<br>\n",
    "\n",
    "3. [Match Treatment and Control Units](#match)<br>\n",
    "3.1. [Dataflow](#dataflow_1)<br>\n",
    "3.2. [What control variables should be considered?](#control_variables_1)<br>\n",
    "3.3. [What is the correlation between your each potential control variable and your performance metric?](#correlation)<br>\n",
    "3.4. [What control variables will you use to match treatment and control stores?](#control_variables_2)<br>\n",
    "3.5. [Please fill out the table below with your treatment and control stores pairs](#fill_out)<br>\n",
    "\n",
    "4. [Analysis and Writeup](#analysis_and_writeup)<br>\n",
    "4.1. [Dataflow](#dataflow_2)<br>\n",
    "4.2. [A/B Analysis Dashboards](#dashboards)<br>\n",
    "4.3. [What is your recommendation - Should the company roll out the updated menu to all stores?](#recommendation)<br>\n",
    "4.4. [What is the lift from the new menu for West and Central regions (include statistical significance)?](#lift)<br>\n",
    "4.5. [What is the lift from the new menu overall?](#lift_new_menu)<br>"
   ]
  },
  {
   "cell_type": "markdown",
   "metadata": {},
   "source": [
    "<a id='plan'></a>\n",
    "## 1. Plan Your Analysis\n",
    "\n",
    "<a id='metric'></a>\n",
    "#### 1.1. What is the performance metric you’ll use to evaluate the results of your test?\n",
    "\n",
    "This test will evaluate the increase of sales with the introduction of new products in the menu (gourmet sandwiches and wines)"
   ]
  },
  {
   "cell_type": "markdown",
   "metadata": {},
   "source": [
    "<a id='period'></a>\n",
    "#### 1.2. What is the test period?\n",
    "\n",
    "The test ran for a period of 12 weeks (2016-April-29 to 2016-July-21) where five stores in each of the test markets offered the updated menu along with television advertising."
   ]
  },
  {
   "cell_type": "markdown",
   "metadata": {},
   "source": [
    "<a id='level_agg'></a>\n",
    "#### 1.3. At what level (day, week, month, etc.) should the data be aggregated?\n",
    "\n",
    "The data should be aggregated by week."
   ]
  },
  {
   "cell_type": "markdown",
   "metadata": {},
   "source": [
    "<a id='cleanup'></a>\n",
    "## 2. Clean Up Your Data\n",
    "\n",
    "<a id='data_exploration'></a>\n",
    "#### 2.1. Data Exploration\n",
    "\n",
    "#### 2.1.1. Round Roasters Store Table\n",
    "\n",
    "To the cleanup process, I started with Data Exploration, the first step was visualizing the data distribution:"
   ]
  },
  {
   "cell_type": "markdown",
   "metadata": {},
   "source": [
    "<img src=\"http://drive.google.com/uc?export=view&id=1Q7-shEVAQcdfNqYZMPu7ELY1_JK3X-y6\" width=\"700\">"
   ]
  },
  {
   "cell_type": "markdown",
   "metadata": {},
   "source": [
    "#### 2.1.1.1. Low Variability\n",
    "\n",
    "The country field was identified as a field with “Low Variability” and was removed:"
   ]
  },
  {
   "cell_type": "markdown",
   "metadata": {},
   "source": [
    "<img src=\"http://drive.google.com/uc?export=view&id=1F9tYAt3erFJooSlKj3VSqcsAQL1s6lSY\" width=\"220\">"
   ]
  },
  {
   "cell_type": "markdown",
   "metadata": {},
   "source": [
    "#### 2.1.1.2. Missing values\n",
    "\n",
    "Because “Street 2” and “Street 3” fields have a lot of missing data (72% and 80%, respectively) and because it will not have much impact in our analysis, I also removed these fields."
   ]
  },
  {
   "cell_type": "markdown",
   "metadata": {},
   "source": [
    "<img src=\"http://drive.google.com/uc?export=view&id=1Svlx3AW3mA2CJ0ETngQMQ4G-BKOnATE2\" width=\"450\">"
   ]
  },
  {
   "cell_type": "markdown",
   "metadata": {},
   "source": [
    "Despite the “Phone Number” has only 2% of missing values, we will also discard it."
   ]
  },
  {
   "cell_type": "markdown",
   "metadata": {},
   "source": [
    "<img src=\"http://drive.google.com/uc?export=view&id=18g6D6qMI5LnmMav3x7odGrzTtJfpkCk8\" width=\"220\">"
   ]
  },
  {
   "cell_type": "markdown",
   "metadata": {},
   "source": [
    "<a id='round_roasters_2'></a>\n",
    "#### 2.1.2. Round Roasters Transactions Table\n",
    "\n",
    "Exploring data with visualizing the data distribution:"
   ]
  },
  {
   "cell_type": "markdown",
   "metadata": {},
   "source": [
    "<img src=\"http://drive.google.com/uc?export=view&id=1gDijvpUb4Lnfw8e5JWu6KRtbAY6GsFtV\" width=\"700\">"
   ]
  },
  {
   "cell_type": "markdown",
   "metadata": {},
   "source": [
    "#### 2.1.2.1. Low Variability\n",
    "\n",
    "The “Round Roasters Transactions” table did not demonstrate any indications of low variability, all of the original variables were maintained."
   ]
  },
  {
   "cell_type": "markdown",
   "metadata": {},
   "source": [
    "#### 2.1.2.2. Missing values\n",
    "\n",
    "The “Round Roasters Transactions” table did not demonstrate any indications of missing values, all of the original variables were maintained."
   ]
  },
  {
   "cell_type": "markdown",
   "metadata": {},
   "source": [
    "<a id='treatment_stores'></a>\n",
    "#### 2.1.3. Treatment Stores\n",
    "\n",
    "Exploring data with visualizing the data distribution:"
   ]
  },
  {
   "cell_type": "markdown",
   "metadata": {},
   "source": [
    "<img src=\"http://drive.google.com/uc?export=view&id=1vTcvC8oxuVjSurwXB419lrzkASSNm4qN\" width=\"700\">"
   ]
  },
  {
   "cell_type": "markdown",
   "metadata": {},
   "source": [
    "#### 2.1.3.1. Low Variability\n",
    "\n",
    "The country field was identified as a field with “Low Variability” and was removed:"
   ]
  },
  {
   "cell_type": "markdown",
   "metadata": {},
   "source": [
    "<img src=\"http://drive.google.com/uc?export=view&id=1asjulEO57MmW7w2fmlVFNTVXV5VuIl49\" width=\"220\">"
   ]
  },
  {
   "cell_type": "markdown",
   "metadata": {},
   "source": [
    "#### 2.1.3.2. Missing values\n",
    "\n",
    "The “Street 2” field was removed because it has 100% of missing data and “Street 3” field have also a lot of missing data (90%) and because they will not have much impact in our analysis, I also removed these fields."
   ]
  },
  {
   "cell_type": "markdown",
   "metadata": {},
   "source": [
    "<img src=\"http://drive.google.com/uc?export=view&id=15i-iZtGlfBTJPcdmQjaNnBOaWJGe8ptF\" width=\"220\">"
   ]
  },
  {
   "cell_type": "markdown",
   "metadata": {},
   "source": [
    "The “Phone Number” field has 10% of missing values, I also discarded it."
   ]
  },
  {
   "cell_type": "markdown",
   "metadata": {},
   "source": [
    "<img src=\"http://drive.google.com/uc?export=view&id=1NyO3jSmWw6_Ahx21Yh5ehfX0vgY9rAdy\" width=\"220\">"
   ]
  },
  {
   "cell_type": "markdown",
   "metadata": {},
   "source": [
    "<a id='data_cleaning'></a>\n",
    "#### 2.2. Data Cleaning"
   ]
  },
  {
   "cell_type": "markdown",
   "metadata": {},
   "source": [
    "#### 2.2.1. Dataflow"
   ]
  },
  {
   "cell_type": "markdown",
   "metadata": {},
   "source": [
    "<img src=\"http://drive.google.com/uc?export=view&id=1M4TKUcL79ulxRJSLBLUQ8cI0N-Co-2hb\" width=\"700\">"
   ]
  },
  {
   "cell_type": "markdown",
   "metadata": {},
   "source": [
    "<div align=\"center\">\n",
    "  Figure 1 - Cleaning the data and making three new datasets: WeeklyStoreTraffic, store_list and Store_Sales_Analysis_Data\n",
    "</div>"
   ]
  },
  {
   "cell_type": "markdown",
   "metadata": {},
   "source": [
    "<a id='match'></a>\n",
    "## 3. Match Treatment and Control Units\n",
    "\n",
    "<a id='dataflow_1'></a>\n",
    "#### 3.1. Dataflow"
   ]
  },
  {
   "cell_type": "markdown",
   "metadata": {},
   "source": [
    "<img src=\"http://drive.google.com/uc?export=view&id=1OwkGR6VJm4BbizmXqTghcQ-i_XlpTOgI\" width=\"700\">"
   ]
  },
  {
   "cell_type": "markdown",
   "metadata": {},
   "source": [
    "<div align=\"center\">\n",
    "  Figure 2 – A/B Trend and A/B Controls Tools used to generate control_treatment_pairing dataset\n",
    "</div>"
   ]
  },
  {
   "cell_type": "markdown",
   "metadata": {},
   "source": [
    "<a id='control_variables_1'></a>\n",
    "#### 3.2. What control variables should be considered?\n",
    "\n",
    "Looking at our dataset, we could see that both Sq_Ft and AvgMonthSales are good candidates for being control variables."
   ]
  },
  {
   "cell_type": "markdown",
   "metadata": {},
   "source": [
    "<a id='correlation'></a>\n",
    "#### 3.3. What is the correlation between your each potential control variable and your performance metric?"
   ]
  },
  {
   "cell_type": "markdown",
   "metadata": {},
   "source": [
    "| FieldName | Sq_Ft | AvgMonthSales | Sum_Sales | Sum_Gross Margin |\n",
    "| --- | --- | --- | --- | --- |\n",
    "| Sq_Ft | 1.0000 | -0.0990 | -0.0641 | -0.0619 |\n",
    "| AvgMonthSales | -0.0990 | 1.0000 | 0.7863 | 0.7874 |\n",
    "| Sum_Sales | -0.0641 | 0.7863 | 1.0000 | 0.9987 |\n",
    "| Sum_Gross Margin | -0.0619 | 0.7874 | 0.9987 | 1.0000 |"
   ]
  },
  {
   "cell_type": "markdown",
   "metadata": {},
   "source": [
    "The correlation between the square footage area and the sum of gross margin (our target variable) is very low, it has barely any relationship between them, but now looking at the sum of gross margin and the average monthly sales, we could see a strong relationship between them. Therefore, it makes sense to eliminate the square footage area from our control variables list.\n",
    "\n",
    "If we look only at the sum of sales and the sum of gross margin, we could see a very strong relationship between them (0.9987), this ratio is so high that we can consider these variables as a duplicate variable and eliminate one of them. We will discard the sum of sales variable."
   ]
  },
  {
   "cell_type": "markdown",
   "metadata": {},
   "source": [
    "<a id='control_variables_2'></a>\n",
    "#### 3.4. What control variables will you use to match treatment and control stores?\n",
    "\n",
    "<b>AvgMontlySales</b> will be used with Trend and Seasonality to match treatment and control stores"
   ]
  },
  {
   "cell_type": "markdown",
   "metadata": {},
   "source": [
    "<a id='fill_out'></a>\n",
    "#### 3.5. Please fill out the table below with your treatment and control stores pairs"
   ]
  },
  {
   "cell_type": "markdown",
   "metadata": {},
   "source": [
    "| Treatment Store | Control Store 1 | Control Store 2 |\n",
    "| --- | --- | --- |\n",
    "| 1664 | 7162 | 8112 |\n",
    "| 1675 | 1580 | 1807 |\n",
    "| 1696 | 1964 | 1863 |\n",
    "| 1700 | 2014 | 1630 |\n",
    "| 1712 | 8162 | 7434 |\n",
    "| 2288 | 9081 | 2568 |\n",
    "| 2293 | 12219 | 9524 |\n",
    "| 2301 | 3102 | 9238 |\n",
    "| 2322 | 2409 | 3235 |\n",
    "| 2341 | 12536 | 2383 |"
   ]
  },
  {
   "cell_type": "markdown",
   "metadata": {},
   "source": [
    "<a id='analysis_and_writeup'></a>\n",
    "## 4. Analysis and Writeup\n",
    "\n",
    "<a id='dataflow_2'></a>\n",
    "#### 4.1. Dataflow"
   ]
  },
  {
   "cell_type": "markdown",
   "metadata": {},
   "source": [
    "<img src=\"http://drive.google.com/uc?export=view&id=1PiWnNAXy5uziwoHf7Zzen3PbdywDvr4B\" width=\"700\">"
   ]
  },
  {
   "cell_type": "markdown",
   "metadata": {},
   "source": [
    "<a id='dashboards'></a>\n",
    "#### 4.2. A/B Analysis Dashboards"
   ]
  },
  {
   "cell_type": "markdown",
   "metadata": {},
   "source": [
    "<a id='recommendation'></a>\n",
    "#### 4.3. What is your recommendation - Should the company roll out the updated menu to all stores?"
   ]
  },
  {
   "cell_type": "markdown",
   "metadata": {},
   "source": [
    "<a id='lift'></a>\n",
    "#### 4.4. What is the lift from the new menu for West and Central regions (include statistical significance)?"
   ]
  },
  {
   "cell_type": "markdown",
   "metadata": {},
   "source": [
    "<a id='lift_new_menu'></a>\n",
    "#### 4.5. What is the lift from the new menu overall?"
   ]
  }
 ],
 "metadata": {
  "kernelspec": {
   "display_name": "Python 3",
   "language": "python",
   "name": "python3"
  },
  "language_info": {
   "codemirror_mode": {
    "name": "ipython",
    "version": 3
   },
   "file_extension": ".py",
   "mimetype": "text/x-python",
   "name": "python",
   "nbconvert_exporter": "python",
   "pygments_lexer": "ipython3",
   "version": "3.7.3"
  }
 },
 "nbformat": 4,
 "nbformat_minor": 2
}
