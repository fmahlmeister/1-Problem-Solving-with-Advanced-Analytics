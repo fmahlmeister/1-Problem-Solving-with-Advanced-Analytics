{
 "cells": [
  {
   "cell_type": "markdown",
   "metadata": {},
   "source": [
    "# Project 5: Combine Predictive Techniques\n",
    "\n",
    "São Paulo, 07 May of 2019<br>\n",
    "Felipe Mahlmeister\n",
    "\n",
    "## Table of Contents\n",
    "\n",
    "1. [Determine Store Formats for Existing Stores](#store_formats)<br>\n",
    "1.1 [What is the optimal number of store formats? How did you arrive at that number?](#optimal_number)<br>\n",
    "1.2 [How many stores fall into each store format?](#how_many_stores)<br>\n",
    "1.3 [Based on the results of the clustering model, what is one way that the clusters differ from one another?](#clusters_differ)<br>\n",
    "1.4. [Please provide a Tableau visualization that shows the location of the stores, uses color to show cluster, and size to show total sales.](#tableau_viz)<br>\n",
    "1.5. [Workflow](#workflow_1)<br>\n",
    "\n",
    "2. [Formats for New Stores](#formats_new_stores)<br>\n",
    "2.1. [What methodology did you use to predict the best store format for the new stores? Why did you choose that methodology?](#methodology)<br>\n",
    "2.2. [What format do each of the 10 new stores fall into?](#10_new_stores)<br>\n",
    "2.3. [Workflow](#workflow_2)<br>\n",
    "\n",
    "3. [Predicting Produce Sales](#predicting_produce_sales)<br>\n",
    "3.1. [What type of ETS or ARIMA model did you use for each forecast? How did you come to that decision?](#ETS_ARIMA)<br>\n",
    "3.2. [Workflow](#workflow_3)<br>\n",
    "3.3. [Please provide a table of your forecasts for existing and new stores. Also, provide visualization of your forecasts that includes historical data, existing stores forecasts, and new stores forecasts.](#forecasts_table)<br>"
   ]
  },
  {
   "cell_type": "markdown",
   "metadata": {},
   "source": [
    "<a id='store_formats'></a>\n",
    "## 1. Determine Store Formats for Existing Stores\n",
    "\n",
    "<a id='optimal_number'></a>\n",
    "#### 1.1. What is the optimal number of store formats? How did you arrive at that number?"
   ]
  },
  {
   "cell_type": "markdown",
   "metadata": {},
   "source": [
    "<div align=\"center\">\n",
    "    Table 1 - K-Means Cluster Assessment Report: Adjusted Rand Indices\n",
    "</div>"
   ]
  },
  {
   "cell_type": "markdown",
   "metadata": {},
   "source": [
    "<img src=\"http://drive.google.com/uc?export=view&id=1q45Okrjp01KK7SLOCLxMHYXe72eZR2Hu\" width=\"700\">"
   ]
  },
  {
   "cell_type": "markdown",
   "metadata": {},
   "source": [
    "<div align=\"center\">\n",
    "    Table 2 - K-Means Cluster Assessment Report: Calinski-Harabasz (CH) Indices\n",
    "</div>"
   ]
  },
  {
   "cell_type": "markdown",
   "metadata": {},
   "source": [
    "<img src=\"http://drive.google.com/uc?export=view&id=1SyOHOcbZpwkZI9zxX65jGLfFw2RI0kyr\" width=\"700\">"
   ]
  },
  {
   "cell_type": "markdown",
   "metadata": {},
   "source": [
    "<img src=\"http://drive.google.com/uc?export=view&id=1W6R-IiJxNXRfjamSYOpVAyfctbgH7kK_\" width=\"400\">"
   ]
  },
  {
   "cell_type": "markdown",
   "metadata": {},
   "source": [
    "<div align=\"center\">\n",
    "    Figure 1 - K-Means Cluster Assessment Report: Adjusted Rand Indices (Box and Whisker Plots)\n",
    "</div>"
   ]
  },
  {
   "cell_type": "markdown",
   "metadata": {},
   "source": [
    "<img src=\"http://drive.google.com/uc?export=view&id=19TJCZ0vrsan7Dw4t57URO59IiruDGtf2\" width=\"400\">"
   ]
  },
  {
   "cell_type": "markdown",
   "metadata": {},
   "source": [
    "<div align=\"center\">\n",
    "    Figure 2 - K-Means Cluster Assessment Report: Calinski-Harabasz (CH) Indices (Box and Whisker Plots)\n",
    "</div>"
   ]
  },
  {
   "cell_type": "markdown",
   "metadata": {},
   "source": [
    "The optimal number of stores formats is 3, when both the indices registered the highest median value using the Adjusted Rand and the Calinski Harabasz Index."
   ]
  },
  {
   "cell_type": "markdown",
   "metadata": {},
   "source": [
    "<a id='how_many_stores'></a>\n",
    "#### 1.2. How many stores fall into each store format?"
   ]
  },
  {
   "cell_type": "markdown",
   "metadata": {},
   "source": [
    "<div align=\"center\">\n",
    "    Table 3 - Report of the number of existing stores fall into each cluster\n",
    "</div>"
   ]
  },
  {
   "cell_type": "markdown",
   "metadata": {},
   "source": [
    "<img src=\"http://drive.google.com/uc?export=view&id=11d63txs-EgkTjYrESuVHB1VoNqPjfxVJ\" width=\"400\">"
   ]
  },
  {
   "cell_type": "markdown",
   "metadata": {},
   "source": [
    "There are 23 stores on the Cluster 1, Cluster 2 has 29 stores while Cluster 3 has 33 stores."
   ]
  },
  {
   "cell_type": "markdown",
   "metadata": {},
   "source": [
    "<a id='clusters_differ'></a>\n",
    "#### 1.3. Based on the results of the clustering model, what is one way that the clusters differ from one another?"
   ]
  },
  {
   "cell_type": "markdown",
   "metadata": {},
   "source": [
    "<img src=\"http://drive.google.com/uc?export=view&id=1JxHFy2lal1Hj-ZiCsBsqFzs1j_nUaUPL\" width=\"700\">"
   ]
  },
  {
   "cell_type": "markdown",
   "metadata": {},
   "source": [
    "According to Graph 1, we could see that the Cluster 3 has the most total sales of them and has the most concentrated sales values, according to    Graph 2, on the other hand, Cluster 1 has the lowest total sales and has the most sparse sales values.\n",
    "\n",
    "Cluster 2 is on the middle ground between Cluster 1 and 3, both in total sales value and in spacing."
   ]
  },
  {
   "cell_type": "markdown",
   "metadata": {},
   "source": [
    "<img src=\"http://drive.google.com/uc?export=view&id=1posmWzY7IB8biQKfTC3j-AAGkpHLR5S6\" width=\"600\">"
   ]
  },
  {
   "cell_type": "markdown",
   "metadata": {},
   "source": [
    "<div align=\"center\">\n",
    "    Graph 3 – Total Sales per Category per Cluster\n",
    "</div>"
   ]
  },
  {
   "cell_type": "markdown",
   "metadata": {},
   "source": [
    "After analyzing above Graph 3, is remarkable the difference between the dry grocery category and the other values. One of the main factors of Cluster 3 has the highest sales values is because of its dry grocery category."
   ]
  },
  {
   "cell_type": "markdown",
   "metadata": {},
   "source": [
    "<img src=\"http://drive.google.com/uc?export=view&id=1MywloMD401ZTcE2SqkEMRLu1LrnuSxin\" width=\"600\">"
   ]
  },
  {
   "cell_type": "markdown",
   "metadata": {},
   "source": [
    "<img src=\"http://drive.google.com/uc?export=view&id=1aK9uoFX60GfkT8AZB3d5DG3k-JVfpQgR\" width=\"600\">"
   ]
  },
  {
   "cell_type": "markdown",
   "metadata": {},
   "source": [
    "<div align=\"center\">\n",
    "    Graph 6 – Circle views - Categories\n",
    "</div>"
   ]
  },
  {
   "cell_type": "markdown",
   "metadata": {},
   "source": [
    "After analyzing Graph 4, Graph 5 and Graph 6, we could see that even though the dry grocery is the largest source of revenue for all clusters, we can see some specificities of each cluster, like the following:\n",
    "\n",
    "Cluster 1:<br>\n",
    "Top 1 – General Merchandising<br>\n",
    "Top 2 – None<br>\n",
    "Top 3 – Bakery, Diary, Deli, Dry Grocery, Floral, Frozen Food, Meat, Produce\n",
    "\n",
    "Cluster 2:<br>\n",
    "Top 1 – Floral, Produce<br>\n",
    "Top 2 – Bakery, Diary, Deli, Dry Grocery, Frozen Food, Meat<br>\n",
    "Top 3 – General Merchandising\n",
    "\n",
    "Cluster 3:<br>\n",
    "Top 1 – Bakery, Diary, Deli, Dry Grocery, Frozen Food, Meat <br>\n",
    "Top 2 – Floral, General Merchandising, Produce<br>\n",
    "Top 3 – None\n",
    "\n",
    "- The first cluster has significant higher General Merchandising sales than other categories and the source of revenue of this cluster comes very diluted from each category, besides being the cluster with less effectiveness in sales. This cluster could be named as “Just Things”;\n",
    "<br><br>\n",
    "- The second cluster has the most balanced incomes and the main characteristic of its consumer is their likeability of buying Produce and Floral things and not likely to buying General Merchandising. This cluster could be named as “Organics”;\n",
    "<br><br>\n",
    "- The third cluster is the golden goose of this retail company! Cluster 3 stores are the most similar in terms of sales due to more compact range. The main characteristic of its consumer is their likeability of buying things with a high value-added product (and consequently high revenues and margins) as Meats, Bakery and Frozen Food. This cluster could be named as “Bon Vivant”\n"
   ]
  },
  {
   "cell_type": "markdown",
   "metadata": {},
   "source": [
    "<a id='tableau_viz'></a>\n",
    "#### 1.4. Please provide a Tableau visualization that shows the location of the stores, uses color to show cluster, and size to show total sales."
   ]
  },
  {
   "cell_type": "markdown",
   "metadata": {},
   "source": [
    "<img src=\"http://drive.google.com/uc?export=view&id=1WfGmOWKr72sn2Odv7XrtJNCKUsdq1pyv\" width=\"700\">"
   ]
  },
  {
   "cell_type": "markdown",
   "metadata": {},
   "source": [
    "<div align=\"center\">\n",
    "    Figure 3 - Location of the stores\n",
    "</div>"
   ]
  },
  {
   "cell_type": "markdown",
   "metadata": {},
   "source": [
    "[Click on this link to see this iterative chart in Tableau Visualization](https://public.tableau.com/views/task1_15568219463120/stores_map?:embed=y&:display_count=yes&publish=yes)"
   ]
  },
  {
   "cell_type": "markdown",
   "metadata": {},
   "source": [
    "<a id='workflow_1'></a>\n",
    "#### 1.5. Workflow"
   ]
  },
  {
   "cell_type": "markdown",
   "metadata": {},
   "source": [
    "<img src=\"http://drive.google.com/uc?export=view&id=1Hhn1NNN-PD3YWWpd9ZPSc_nchJ5ajcI8\" width=\"700\">"
   ]
  },
  {
   "cell_type": "markdown",
   "metadata": {},
   "source": [
    "<div align=\"center\">\n",
    "    Figure 4 - Task 1 Workflow – Calculating number of cluster based on K-mean clustering model\n",
    "</div>"
   ]
  },
  {
   "cell_type": "markdown",
   "metadata": {},
   "source": [
    "<a id='formats_new_stores'></a>\n",
    "## 2. Formats for New Stores\n",
    "\n",
    "<a id='methodology'></a>\n",
    "#### 2.1. What methodology did you use to predict the best store format for the new stores? Why did you choose that methodology?"
   ]
  },
  {
   "cell_type": "markdown",
   "metadata": {},
   "source": [
    "The following Model Comparison Report shows comparison matrix between Decision Tree, Forest Model and Boosted Model.\n",
    "Boosted Model is chosen despite having same accuracy as Forest Model due to higher F1 value."
   ]
  },
  {
   "cell_type": "markdown",
   "metadata": {},
   "source": [
    "<img src=\"http://drive.google.com/uc?export=view&id=1_bF9-ULvJrBmYcbdthB41pfEEReY0TYw\" width=\"600\">"
   ]
  },
  {
   "cell_type": "markdown",
   "metadata": {},
   "source": [
    "<div align=\"center\">\n",
    "    Figure 5 - Model Comparison Report\n",
    "</div>"
   ]
  },
  {
   "cell_type": "markdown",
   "metadata": {},
   "source": [
    "<a id='10_new_stores'></a>\n",
    "#### 2.2. What format do each of the 10 new stores fall into?"
   ]
  },
  {
   "cell_type": "markdown",
   "metadata": {},
   "source": [
    "| Store Number | Segment |\n",
    "| --- | --- |\n",
    "| S0086 | 1 |\n",
    "| S0087 | 2 |\n",
    "| S0088 | 3 |\n",
    "| S0089 | 2 |\n",
    "| S0090 | 2 |\n",
    "| S0091 | 1 |\n",
    "| S0092 | 2 |\n",
    "| S0093 | 1 |\n",
    "| S0094 | 2 |\n",
    "| S0095 | 2 |"
   ]
  },
  {
   "cell_type": "markdown",
   "metadata": {},
   "source": [
    "<a id='workflow_2'></a>\n",
    "#### 2.3. Workflow"
   ]
  },
  {
   "cell_type": "markdown",
   "metadata": {},
   "source": [
    "<img src=\"http://drive.google.com/uc?export=view&id=1dGVkrta4onIbgd1UFfo4ZkRWFO7JyhW2\" width=\"700\">"
   ]
  },
  {
   "cell_type": "markdown",
   "metadata": {},
   "source": [
    "<div align=\"center\">\n",
    "    Figure 6 - Workflow used to assign cluster to new stores\n",
    "</div>"
   ]
  },
  {
   "cell_type": "markdown",
   "metadata": {},
   "source": [
    "<a id='predicting_produce_sales'></a>\n",
    "## 3. Predicting Produce Sales\n",
    "\n",
    "<a id='ETS_ARIMA'></a>\n",
    "#### 3.1. What type of ETS or ARIMA model did you use for each forecast? How did you come to that decision?"
   ]
  },
  {
   "cell_type": "markdown",
   "metadata": {},
   "source": [
    "To decide whether we’ll use ETS or ARIMA model, first we will check how the Time Series behaves:\n",
    "\n",
    "Looking for seasonality, we could see that it shows increasing trend and should be multiplicatively.\n",
    "The trend plot doesn’t show any trending, and nothing should be applied.\n",
    "Its error is irregular and should be applied multiplicatively.\n",
    "\n",
    "<b>ETS(M,N,M) with no dampening</b> should be used for ETS model."
   ]
  },
  {
   "cell_type": "markdown",
   "metadata": {},
   "source": [
    "<img src=\"http://drive.google.com/uc?export=view&id=100qA9TMZqSw1HV5vjC8zcUjnDG5080KA\" width=\"700\">"
   ]
  },
  {
   "cell_type": "markdown",
   "metadata": {},
   "source": [
    "<div align=\"center\">\n",
    "    Graph 7 - Time Series Plot with Decomposition Plot, without differencing\n",
    "</div>"
   ]
  },
  {
   "cell_type": "markdown",
   "metadata": {},
   "source": [
    "Because of the seasonality on these series, we need to differentiate our Time Series in order to Stationarize the series, as following."
   ]
  },
  {
   "cell_type": "markdown",
   "metadata": {},
   "source": [
    "<img src=\"http://drive.google.com/uc?export=view&id=1z_0bGkrq6HrJfSI1dBvNE9rEOPKCg-9_\" width=\"700\">"
   ]
  },
  {
   "cell_type": "markdown",
   "metadata": {},
   "source": [
    "<div align=\"center\">\n",
    "    Figure 7 - ACF and PACF plot of non-seasonal component of the ARIMA model with one differencing\n",
    "</div>"
   ]
  },
  {
   "cell_type": "markdown",
   "metadata": {},
   "source": [
    "First, we need to look at the seasonal differencing component, to allow us to account for the value as observed in the same season one year earlier, as figure below."
   ]
  },
  {
   "cell_type": "markdown",
   "metadata": {},
   "source": [
    "<img src=\"http://drive.google.com/uc?export=view&id=1yTbuJMAUPk1hpMxfS-W7u_8yoXcoOxAg\" width=\"700\">"
   ]
  },
  {
   "cell_type": "markdown",
   "metadata": {},
   "source": [
    "<div align=\"center\">\n",
    "    Figure 8 - ACF and PACF plot of the seasonal component of ARIMA\n",
    "</div>"
   ]
  },
  {
   "cell_type": "markdown",
   "metadata": {},
   "source": [
    "So, looks like we have to take the first seasonal difference to correct for seasonality before the dataset stationary"
   ]
  },
  {
   "cell_type": "markdown",
   "metadata": {},
   "source": [
    "<img src=\"http://drive.google.com/uc?export=view&id=1N_SmXCw1gaN9DJSlmlcCu0GFWls7QfrR\" width=\"700\">"
   ]
  },
  {
   "cell_type": "markdown",
   "metadata": {},
   "source": [
    "<div align=\"center\">\n",
    "    Figure 9 - ACF and PACF plot after taking the first differencing of the seasonal component of the ARIMA\n",
    "</div>"
   ]
  },
  {
   "cell_type": "markdown",
   "metadata": {},
   "source": [
    "After plotting the first seasonal difference, we can see that the series has stationarized. We can see this through our ACF and PACF plots, the serial correlational has now disappeared.\n",
    "\n",
    "For the ARIMA model, the set <b>ARIMA(0,1,2)(0,1,0)</b> was chosen, seasonal difference and seasonal first difference were performed. There is a lag-2. The parameters determined for the ARIMA are based on ACF and PACF plots (above)"
   ]
  },
  {
   "cell_type": "markdown",
   "metadata": {},
   "source": [
    "<div align=\"center\">\n",
    "    Table 4 - Accuracy between ETS and ARIMA models\n",
    "</div>"
   ]
  },
  {
   "cell_type": "markdown",
   "metadata": {},
   "source": [
    "<img src=\"http://drive.google.com/uc?export=view&id=1qVIWiE3FMoXrgwAXBRdnPnn7TktS36Ll\" width=\"400\">"
   ]
  },
  {
   "cell_type": "markdown",
   "metadata": {},
   "source": [
    "Based on above Table 4 results, which was obtained from running the two time-series models against the holdout sample of 6 months data, the <b>ETS model’s accuracy is higher when compared to ARIMA model</b>. ETS model has lower RMSE value and lower MASE value.\n",
    "\n",
    "The following Graph 8 and table below shows actual and forecast value with 80% & 95% confidence level interval."
   ]
  },
  {
   "cell_type": "markdown",
   "metadata": {},
   "source": [
    "<img src=\"http://drive.google.com/uc?export=view&id=1-acdccF_Kf-9fNmTQtCDRCGRznRpqf1n\" width=\"500\">"
   ]
  },
  {
   "cell_type": "markdown",
   "metadata": {},
   "source": [
    "<div align=\"center\">\n",
    "    Graph 8 - Forecasts from ETS Model - Actual and forecast value with 80% & 95% confidence level interval\n",
    "</div>"
   ]
  },
  {
   "cell_type": "markdown",
   "metadata": {},
   "source": [
    "<div align=\"center\">\n",
    "    Table 5 - Forecasts from ETS Model - Actual and forecast value with 80% & 95% confidence level interval\n",
    "</div>"
   ]
  },
  {
   "cell_type": "markdown",
   "metadata": {},
   "source": [
    "<img src=\"http://drive.google.com/uc?export=view&id=1gd0nkZ-8OJFwklOinHJoSsy58unvI7ul\" width=\"700\">"
   ]
  },
  {
   "cell_type": "markdown",
   "metadata": {},
   "source": [
    "<a id='workflow_3'></a>\n",
    "#### 3.2. Workflow"
   ]
  },
  {
   "cell_type": "markdown",
   "metadata": {},
   "source": [
    "<img src=\"http://drive.google.com/uc?export=view&id=1-sXJg96f-DbVCWgClbAgX0NFqQKsLo50\" width=\"600\">"
   ]
  },
  {
   "cell_type": "markdown",
   "metadata": {},
   "source": [
    "<div align=\"center\">\n",
    "    Figure 10 – Workflow used to forecast the sale value for the average store in 2016\n",
    "</div>"
   ]
  },
  {
   "cell_type": "markdown",
   "metadata": {},
   "source": [
    "<img src=\"http://drive.google.com/uc?export=view&id=1IPBZ2-gPLs3woz7TTDXwqI618ZGXMo89\" width=\"700\">"
   ]
  },
  {
   "cell_type": "markdown",
   "metadata": {},
   "source": [
    "<div align=\"center\">\n",
    "    Figure 11 - Workflow used to forecast the sum produce sale for each cluster\n",
    "</div>"
   ]
  },
  {
   "cell_type": "markdown",
   "metadata": {},
   "source": [
    "<img src=\"http://drive.google.com/uc?export=view&id=1fsfXECaf1OvOPA4rxUiaKbiNpxQgrBgP\" width=\"600\">"
   ]
  },
  {
   "cell_type": "markdown",
   "metadata": {},
   "source": [
    "<div align=\"center\">\n",
    "    Figure 12 - Workflow used to generate the dataset for Tableau forecast plot\n",
    "</div>"
   ]
  },
  {
   "cell_type": "markdown",
   "metadata": {},
   "source": [
    "<a id='forecasts_table'></a>\n",
    "#### 3.3. Please provide a table of your forecasts for existing and new stores. Also, provide visualization of your forecasts that includes historical data, existing stores forecasts, and new stores forecasts."
   ]
  },
  {
   "cell_type": "markdown",
   "metadata": {},
   "source": [
    "Looking at the following table, we can see the forecast sales for existing stores and new stores.\n",
    "New store sales was obtained by using <b>ETS(M,N,M)</b> analysis with all the 3 individual cluster to obtain the average sales per store. The average sales value (x3 cluster 1, x6 cluster 2, x1 cluster 3) are added up produce New Store Sales."
   ]
  },
  {
   "cell_type": "markdown",
   "metadata": {},
   "source": [
    "<div align=\"center\">\n",
    "    Table 6 - Forecasted sales for the next 12 months for both existing and new stores\n",
    "</div>"
   ]
  },
  {
   "cell_type": "markdown",
   "metadata": {},
   "source": [
    "<img src=\"http://drive.google.com/uc?export=view&id=1czagqNxpP2rbw1mXIKa-AuRWklcGt-9I\" width=\"500\">"
   ]
  },
  {
   "cell_type": "markdown",
   "metadata": {},
   "source": [
    "Using these predictive techniques, the customer can minimize investment risk and know what the expected profit values should be."
   ]
  },
  {
   "cell_type": "markdown",
   "metadata": {},
   "source": [
    "<img src=\"http://drive.google.com/uc?export=view&id=1smsv0DXUyZUusvXVRztDloszMUCQ_3Wt\" width=\"800\">"
   ]
  },
  {
   "cell_type": "markdown",
   "metadata": {},
   "source": [
    "<div align=\"center\">\n",
    "    Graph 9 - Historical and forecast sales for existing stores and new stores over the period from Mar-12 to Dec-16\n",
    "</div>"
   ]
  },
  {
   "cell_type": "markdown",
   "metadata": {},
   "source": [
    "[Click on this link to see this iterative chart in Tableau Visualization](https://public.tableau.com/views/total_produce_sales_forecast/Sheet1?:embed=y&:display_count=yes&publish=yes)"
   ]
  }
 ],
 "metadata": {
  "kernelspec": {
   "display_name": "Python 3",
   "language": "python",
   "name": "python3"
  },
  "language_info": {
   "codemirror_mode": {
    "name": "ipython",
    "version": 3
   },
   "file_extension": ".py",
   "mimetype": "text/x-python",
   "name": "python",
   "nbconvert_exporter": "python",
   "pygments_lexer": "ipython3",
   "version": "3.7.3"
  }
 },
 "nbformat": 4,
 "nbformat_minor": 2
}
