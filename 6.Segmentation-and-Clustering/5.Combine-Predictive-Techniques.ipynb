{
 "cells": [
  {
   "cell_type": "markdown",
   "metadata": {},
   "source": [
    "# Project 5: Combine Predictive Techniques\n",
    "\n",
    "São Paulo, 07 May of 2019<br>\n",
    "Felipe Mahlmeister\n",
    "\n",
    "## Table of Contents\n",
    "\n",
    "1. [Determine Store Formats for Existing Stores](#store_formats)<br>\n",
    "1.1 [What is the optimal number of store formats? How did you arrive at that number?](#optimal_number)<br>\n",
    "1.2 [How many stores fall into each store format?](#how_many_stores)<br>\n",
    "1.3 [Based on the results of the clustering model, what is one way that the clusters differ from one another?](#clusters_differ)<br>\n",
    "1.4. [Please provide a Tableau visualization that shows the location of the stores, uses color to show cluster, and size to show total sales.](#tableau_viz)<br>\n",
    "1.5. [Workflow](#workflow_1)<br>\n",
    "\n",
    "2. [Formats for New Stores](#formats_new_stores)<br>\n",
    "2.1. [What methodology did you use to predict the best store format for the new stores? Why did you choose that methodology?](#methodology)<br>\n",
    "2.2. [What format do each of the 10 new stores fall into?](#10_new_stores)<br>\n",
    "2.3. [Workflow](#workflow_2)<br>\n",
    "\n",
    "3. [Predicting Produce Sales](#predicting_produce_sales)<br>\n",
    "3.1. [What type of ETS or ARIMA model did you use for each forecast? How did you come to that decision?](#ETS_ARIMA)<br>\n",
    "3.2. [Workflow](#workflow_3)<br>\n",
    "3.3. [Please provide a table of your forecasts for existing and new stores. Also, provide visualization of your forecasts that includes historical data, existing stores forecasts, and new stores forecasts.](#forecasts_table)<br>"
   ]
  },
  {
   "cell_type": "markdown",
   "metadata": {},
   "source": [
    "<a id='store_formats'></a>\n",
    "## 1. Determine Store Formats for Existing Stores\n",
    "\n",
    "<a id='optimal_number'></a>\n",
    "#### 1.1. What is the optimal number of store formats? How did you arrive at that number?"
   ]
  },
  {
   "cell_type": "markdown",
   "metadata": {},
   "source": [
    "<a id='how_many_stores'></a>\n",
    "#### 1.2. How many stores fall into each store format?"
   ]
  },
  {
   "cell_type": "markdown",
   "metadata": {},
   "source": [
    "<a id='clusters_differ'></a>\n",
    "#### 1.3. Based on the results of the clustering model, what is one way that the clusters differ from one another?"
   ]
  },
  {
   "cell_type": "markdown",
   "metadata": {},
   "source": [
    "<a id='tableau_viz'></a>\n",
    "#### 1.4. Please provide a Tableau visualization that shows the location of the stores, uses color to show cluster, and size to show total sales."
   ]
  },
  {
   "cell_type": "markdown",
   "metadata": {},
   "source": [
    "<a id='workflow_1'></a>\n",
    "#### 1.5. Workflow"
   ]
  },
  {
   "cell_type": "markdown",
   "metadata": {},
   "source": [
    "<a id='formats_new_stores'></a>\n",
    "## 2. Formats for New Stores\n",
    "\n",
    "<a id='methodology'></a>\n",
    "#### 2.1. What methodology did you use to predict the best store format for the new stores? Why did you choose that methodology?"
   ]
  },
  {
   "cell_type": "markdown",
   "metadata": {},
   "source": [
    "<a id='10_new_stores'></a>\n",
    "#### 2.2. What format do each of the 10 new stores fall into?"
   ]
  },
  {
   "cell_type": "markdown",
   "metadata": {},
   "source": [
    "<a id='workflow_2'></a>\n",
    "#### 2.3. Workflow"
   ]
  },
  {
   "cell_type": "markdown",
   "metadata": {},
   "source": [
    "<a id='predicting_produce_sales'></a>\n",
    "## 3. Predicting Produce Sales\n",
    "\n",
    "<a id='ETS_ARIMA'></a>\n",
    "#### 3.1. What type of ETS or ARIMA model did you use for each forecast? How did you come to that decision?"
   ]
  },
  {
   "cell_type": "markdown",
   "metadata": {},
   "source": [
    "<a id='workflow_3'></a>\n",
    "#### 3.2. Workflow"
   ]
  },
  {
   "cell_type": "markdown",
   "metadata": {},
   "source": [
    "<a id='forecasts_table'></a>\n",
    "#### 3.3. Please provide a table of your forecasts for existing and new stores. Also, provide visualization of your forecasts that includes historical data, existing stores forecasts, and new stores forecasts."
   ]
  }
 ],
 "metadata": {
  "kernelspec": {
   "display_name": "Python 3",
   "language": "python",
   "name": "python3"
  },
  "language_info": {
   "codemirror_mode": {
    "name": "ipython",
    "version": 3
   },
   "file_extension": ".py",
   "mimetype": "text/x-python",
   "name": "python",
   "nbconvert_exporter": "python",
   "pygments_lexer": "ipython3",
   "version": "3.7.3"
  }
 },
 "nbformat": 4,
 "nbformat_minor": 2
}
